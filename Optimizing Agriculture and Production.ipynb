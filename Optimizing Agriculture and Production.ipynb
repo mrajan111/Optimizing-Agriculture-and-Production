{
 "cells": [
  {
   "cell_type": "code",
   "execution_count": 1,
   "metadata": {},
   "outputs": [],
   "source": [
    "import numpy as np\n",
    "import pandas as pd\n",
    "import matplotlib.pyplot as plt\n",
    "import seaborn as sns\n",
    "from ipywidgets import interact"
   ]
  },
  {
   "cell_type": "code",
   "execution_count": 2,
   "metadata": {},
   "outputs": [],
   "source": [
    "data = pd.read_csv('C:\\\\Users\\\\lenovo\\\\Desktop\\\\agriculture.csv')"
   ]
  },
  {
   "cell_type": "code",
   "execution_count": 3,
   "metadata": {},
   "outputs": [
    {
     "name": "stdout",
     "output_type": "stream",
     "text": [
      "Shape of the Dataset :  (2200, 8)\n"
     ]
    }
   ],
   "source": [
    "print(\"Shape of the Dataset : \",data.shape)"
   ]
  },
  {
   "cell_type": "code",
   "execution_count": 4,
   "metadata": {},
   "outputs": [
    {
     "data": {
      "text/html": [
       "<div>\n",
       "<style scoped>\n",
       "    .dataframe tbody tr th:only-of-type {\n",
       "        vertical-align: middle;\n",
       "    }\n",
       "\n",
       "    .dataframe tbody tr th {\n",
       "        vertical-align: top;\n",
       "    }\n",
       "\n",
       "    .dataframe thead th {\n",
       "        text-align: right;\n",
       "    }\n",
       "</style>\n",
       "<table border=\"1\" class=\"dataframe\">\n",
       "  <thead>\n",
       "    <tr style=\"text-align: right;\">\n",
       "      <th></th>\n",
       "      <th>N</th>\n",
       "      <th>P</th>\n",
       "      <th>K</th>\n",
       "      <th>temperature</th>\n",
       "      <th>humidity</th>\n",
       "      <th>ph</th>\n",
       "      <th>rainfall</th>\n",
       "      <th>label</th>\n",
       "    </tr>\n",
       "  </thead>\n",
       "  <tbody>\n",
       "    <tr>\n",
       "      <th>0</th>\n",
       "      <td>90</td>\n",
       "      <td>42</td>\n",
       "      <td>43</td>\n",
       "      <td>20.879744</td>\n",
       "      <td>82.002744</td>\n",
       "      <td>6.502985</td>\n",
       "      <td>202.935536</td>\n",
       "      <td>rice</td>\n",
       "    </tr>\n",
       "    <tr>\n",
       "      <th>1</th>\n",
       "      <td>85</td>\n",
       "      <td>58</td>\n",
       "      <td>41</td>\n",
       "      <td>21.770462</td>\n",
       "      <td>80.319644</td>\n",
       "      <td>7.038096</td>\n",
       "      <td>226.655537</td>\n",
       "      <td>rice</td>\n",
       "    </tr>\n",
       "    <tr>\n",
       "      <th>2</th>\n",
       "      <td>60</td>\n",
       "      <td>55</td>\n",
       "      <td>44</td>\n",
       "      <td>23.004459</td>\n",
       "      <td>82.320763</td>\n",
       "      <td>7.840207</td>\n",
       "      <td>263.964248</td>\n",
       "      <td>rice</td>\n",
       "    </tr>\n",
       "    <tr>\n",
       "      <th>3</th>\n",
       "      <td>74</td>\n",
       "      <td>35</td>\n",
       "      <td>40</td>\n",
       "      <td>26.491096</td>\n",
       "      <td>80.158363</td>\n",
       "      <td>6.980401</td>\n",
       "      <td>242.864034</td>\n",
       "      <td>rice</td>\n",
       "    </tr>\n",
       "    <tr>\n",
       "      <th>4</th>\n",
       "      <td>78</td>\n",
       "      <td>42</td>\n",
       "      <td>42</td>\n",
       "      <td>20.130175</td>\n",
       "      <td>81.604873</td>\n",
       "      <td>7.628473</td>\n",
       "      <td>262.717340</td>\n",
       "      <td>rice</td>\n",
       "    </tr>\n",
       "  </tbody>\n",
       "</table>\n",
       "</div>"
      ],
      "text/plain": [
       "    N   P   K  temperature   humidity        ph    rainfall label\n",
       "0  90  42  43    20.879744  82.002744  6.502985  202.935536  rice\n",
       "1  85  58  41    21.770462  80.319644  7.038096  226.655537  rice\n",
       "2  60  55  44    23.004459  82.320763  7.840207  263.964248  rice\n",
       "3  74  35  40    26.491096  80.158363  6.980401  242.864034  rice\n",
       "4  78  42  42    20.130175  81.604873  7.628473  262.717340  rice"
      ]
     },
     "execution_count": 4,
     "metadata": {},
     "output_type": "execute_result"
    }
   ],
   "source": [
    "data.head()"
   ]
  },
  {
   "cell_type": "code",
   "execution_count": 5,
   "metadata": {},
   "outputs": [
    {
     "data": {
      "text/plain": [
       "N              0\n",
       "P              0\n",
       "K              0\n",
       "temperature    0\n",
       "humidity       0\n",
       "ph             0\n",
       "rainfall       0\n",
       "label          0\n",
       "dtype: int64"
      ]
     },
     "execution_count": 5,
     "metadata": {},
     "output_type": "execute_result"
    }
   ],
   "source": [
    "data.isnull().sum()"
   ]
  },
  {
   "cell_type": "code",
   "execution_count": 6,
   "metadata": {},
   "outputs": [
    {
     "data": {
      "text/plain": [
       "chickpea       100\n",
       "mungbean       100\n",
       "pigeonpeas     100\n",
       "jute           100\n",
       "watermelon     100\n",
       "coffee         100\n",
       "grapes         100\n",
       "rice           100\n",
       "mango          100\n",
       "coconut        100\n",
       "cotton         100\n",
       "mothbeans      100\n",
       "lentil         100\n",
       "blackgram      100\n",
       "pomegranate    100\n",
       "banana         100\n",
       "muskmelon      100\n",
       "orange         100\n",
       "papaya         100\n",
       "kidneybeans    100\n",
       "apple          100\n",
       "maize          100\n",
       "Name: label, dtype: int64"
      ]
     },
     "execution_count": 6,
     "metadata": {},
     "output_type": "execute_result"
    }
   ],
   "source": [
    "data['label'].value_counts()"
   ]
  },
  {
   "cell_type": "code",
   "execution_count": 7,
   "metadata": {},
   "outputs": [
    {
     "name": "stdout",
     "output_type": "stream",
     "text": [
      "Average Ratio of Nitrogen in the soil :{0:.2f} 50.551818181818184\n",
      "Average Ratio of Phosphorus in the soil :{0:.2f} 53.36272727272727\n",
      "Average Ratio of Potassium in the soil :{0:.2f} 48.14909090909091\n",
      "Average Temperature in Celcius :{0:.2f} 25.616243851779533\n",
      "Average  Relative humidity in % :{0:.2f} 71.48177921778648\n",
      "Average  ph Value of the soil :{0:.2f} 6.469480065256369\n",
      "Average  Rainfall in mm :{0:.2f} 103.4636554157683\n"
     ]
    }
   ],
   "source": [
    "print(\"Average Ratio of Nitrogen in the soil :{0:.2f}\",format(data['N'].mean()))\n",
    "print(\"Average Ratio of Phosphorus in the soil :{0:.2f}\",format(data['P'].mean()))\n",
    "print(\"Average Ratio of Potassium in the soil :{0:.2f}\",format(data['K'].mean()))\n",
    "print(\"Average Temperature in Celcius :{0:.2f}\",format(data['temperature'].mean()))\n",
    "print(\"Average  Relative humidity in % :{0:.2f}\",format(data['humidity'].mean()))\n",
    "print(\"Average  ph Value of the soil :{0:.2f}\",format(data['ph'].mean()))\n",
    "print(\"Average  Rainfall in mm :{0:.2f}\",format(data['rainfall'].mean()))\n",
    "\n",
    "\n",
    "\n",
    "\n"
   ]
  },
  {
   "cell_type": "code",
   "execution_count": 8,
   "metadata": {},
   "outputs": [
    {
     "data": {
      "application/vnd.jupyter.widget-view+json": {
       "model_id": "7a8034c9ae3d4757b747818103868901",
       "version_major": 2,
       "version_minor": 0
      },
      "text/plain": [
       "interactive(children=(Dropdown(description='crops', options=('chickpea', 'mungbean', 'pigeonpeas', 'jute', 'wa…"
      ]
     },
     "metadata": {},
     "output_type": "display_data"
    }
   ],
   "source": [
    "@interact\n",
    "def summary(crops = list(data['label'].value_counts().index)):\n",
    "    x = data[data['label']== crops]\n",
    "    print(\"...........................................\")\n",
    "    print(\"Statistics for Nitrogen\")\n",
    "    print(\"Minimum Nitrogen Required:\",x['N'].min())\n",
    "    print(\"Average Nitrogen Required:\",x['N'].mean())\n",
    "    print(\"Maximum Nitrogen Required:\",x['N'].max())\n",
    "    print(\"...........................................\")\n",
    "    print(\"Statistics for Phosphorus\")\n",
    "    print(\"Minimum Phosphorus Required:\",x['P'].min())\n",
    "    print(\"Average Phosphorus Required:\",x['P'].mean())\n",
    "    print(\"Maximum Phosphorus Required:\",x['P'].max())\n",
    "    print(\"...........................................\")\n",
    "    print(\"Statistics for Potassium\")\n",
    "    print(\"Minimum Potassium Required:\",x['K'].min())\n",
    "    print(\"Average Potassium Required:\",x['K'].mean())\n",
    "    print(\"Maximum Potassium Required:\",x['K'].max())\n",
    "    print(\"...........................................\") \n",
    "    print(\"Statistics for Temperature\")\n",
    "    print(\"Minimum Temperature Required:\",x['temperature'].min())\n",
    "    print(\"Average Temperature Required:\",x['temperature'].mean())\n",
    "    print(\"Maximum Temperature Required:\",x['temperature'].max())\n",
    "    print(\"...........................................\")\n",
    "    print(\"Statistics for Relative humidity\")\n",
    "    print(\"Minimum Relative humidity Required:\",x['humidity'].min())\n",
    "    print(\"Average Relative humidity Required:\",x['humidity'].mean())\n",
    "    print(\"Maximum relative humidity Required:\",x['humidity'].max())\n",
    "    print(\"...........................................\") \n",
    "    print(\"Statistics for ph\")\n",
    "    print(\"Minimum ph Required:\",x['ph'].min())\n",
    "    print(\"Average ph Required:\",x['ph'].mean())\n",
    "    print(\"Maximum ph Required:\",x['ph'].max())\n",
    "    print(\"...........................................\")\n",
    "    print(\"Statistics for Rainfall\")\n",
    "    print(\"Minimum Rainfall Required:\",x['rainfall'].min())\n",
    "    print(\"Average Rainfall Required:\",x['rainfall'].mean())\n",
    "    print(\"Maximum Rainfall Required:\",x['rainfall'].max())\n",
    "    \n",
    "    \n",
    "    \n",
    "    \n",
    "    \n",
    "    \n",
    "    \n",
    "    \n",
    "    \n",
    "    \n",
    "    \n",
    "    \n",
    "    \n",
    "    \n",
    "    \n",
    "    "
   ]
  },
  {
   "cell_type": "code",
   "execution_count": 9,
   "metadata": {},
   "outputs": [
    {
     "data": {
      "application/vnd.jupyter.widget-view+json": {
       "model_id": "40bc1aa42d9943f19130db7e8e1caa7f",
       "version_major": 2,
       "version_minor": 0
      },
      "text/plain": [
       "interactive(children=(Dropdown(description='conditions', options=('N', 'P', 'K', 'temperature', 'ph', 'humidit…"
      ]
     },
     "metadata": {},
     "output_type": "display_data"
    }
   ],
   "source": [
    "@interact\n",
    "def compare(conditions=['N','P','K','temperature','ph','humidity','rainfall']):\n",
    "    print(\"Crops which required greater than average\", conditions,'\\n')\n",
    "    print(data[data[conditions]> data[conditions].mean()]['label'].unique())\n",
    "    print(\"......................................................................\")\n",
    "    print(\"Crops which required less than average\", conditions,'\\n')\n",
    "    print(data[data[conditions]<= data[conditions].mean()]['label'].unique())"
   ]
  },
  {
   "cell_type": "code",
   "execution_count": 10,
   "metadata": {},
   "outputs": [
    {
     "data": {
      "image/png": "[encoded data removed]",
      "text/plain": [
       "<Figure size 1080x720 with 7 Axes>"
      ]
     },
     "metadata": {
      "needs_background": "light"
     },
     "output_type": "display_data"
    }
   ],
   "source": [
    "ax = plt.subplots(figsize=(15,10))\n",
    "\n",
    "plt.subplot(2,4,1)\n",
    "sns.distplot(data['N'],color = 'red')\n",
    "plt.xlabel('Ratio of Nitrogen',fontsize=12)\n",
    "plt.grid()\n",
    "\n",
    "\n",
    "plt.subplot(2,4,2)\n",
    "sns.distplot(data['P'],color = 'blue')\n",
    "plt.xlabel('Ratio of Phosphorus',fontsize=12)\n",
    "plt.grid()\n",
    "\n",
    "plt.subplot(2,4,3)\n",
    "sns.distplot(data['K'],color = 'yellow')\n",
    "plt.xlabel('Ratio of Potassium',fontsize=12)\n",
    "plt.grid()\n",
    "\n",
    "plt.subplot(2,4,4)\n",
    "sns.distplot(data['temperature'],color = 'black')\n",
    "plt.xlabel('Temperature',fontsize=12)\n",
    "plt.grid()\n",
    "\n",
    "plt.subplot(2,4,5)\n",
    "sns.distplot(data['rainfall'],color = 'grey')\n",
    "plt.xlabel('Rainfall',fontsize=12)\n",
    "plt.grid()\n",
    "\n",
    "plt.subplot(2,4,6)\n",
    "sns.distplot(data['humidity'],color = 'lightgreen')\n",
    "plt.xlabel('Humidity',fontsize=12)\n",
    "plt.grid()\n",
    "\n",
    "plt.subplot(2,4,7)\n",
    "sns.distplot(data['ph'],color = 'darkgreen')\n",
    "plt.xlabel('ph',fontsize=12)\n",
    "plt.grid()\n",
    "\n",
    "\n",
    "\n",
    "\n",
    "\n"
   ]
  },
  {
   "cell_type": "code",
   "execution_count": 11,
   "metadata": {},
   "outputs": [
    {
     "name": "stdout",
     "output_type": "stream",
     "text": [
      "Some Interesting Facts\n",
      "..............................\n",
      "Crop required very high ratio of Nitrogen content in soil: ['cotton']\n",
      "Crop required very high ratio of Phosphorus content in soil: ['grapes' 'apple']\n",
      "Crop required very high ratio of Potassium content in soil: ['grapes' 'apple']\n",
      "Crop required very high Rainfall : ['rice' 'papaya' 'coconut']\n",
      "Crop required very high Temperature : ['grapes']\n",
      "Crop required very low Temperature : ['grapes' 'papaya']\n",
      "Crop required very low Humidity : ['chickpea' 'kidneybeans']\n",
      "Crop required very high ph : ['mothbeans']\n",
      "Crop required very low ph : ['mothbeans']\n"
     ]
    }
   ],
   "source": [
    "print(\"Some Interesting Facts\")\n",
    "print(\"..............................\")\n",
    "print(\"Crop required very high ratio of Nitrogen content in soil:\",data[data['N']>120]['label'].unique())\n",
    "print(\"Crop required very high ratio of Phosphorus content in soil:\",data[data['P']>100]['label'].unique())\n",
    "print(\"Crop required very high ratio of Potassium content in soil:\",data[data['K']>200]['label'].unique())\n",
    "print(\"Crop required very high Rainfall :\",data[data['rainfall']>200]['label'].unique())\n",
    "print(\"Crop required very high Temperature :\",data[data['temperature']<10]['label'].unique())\n",
    "print(\"Crop required very low Temperature :\",data[data['temperature']>40]['label'].unique())\n",
    "print(\"Crop required very low Humidity :\",data[data['humidity']<20]['label'].unique())\n",
    "print(\"Crop required very high ph :\",data[data['ph']<4]['label'].unique())\n",
    "print(\"Crop required very low ph :\",data[data['ph']>9]['label'].unique())\n",
    "\n"
   ]
  },
  {
   "cell_type": "code",
   "execution_count": 13,
   "metadata": {},
   "outputs": [
    {
     "name": "stdout",
     "output_type": "stream",
     "text": [
      "Summer Crops\n",
      "['pigeonpeas' 'mothbeans' 'blackgram' 'mango' 'grapes' 'orange' 'papaya']\n",
      "............................\n",
      "winter crop\n",
      "['maize' 'pigeonpeas' 'lentil' 'pomegranate' 'grapes' 'orange']\n",
      "............................\n",
      "Rainy Crops\n",
      "['rice' 'papaya' 'coconut']\n"
     ]
    }
   ],
   "source": [
    "# Lets Understand which crop can only grow in summer, winter and rainy season respectively\n",
    "\n",
    "print(\"Summer Crops\")\n",
    "print(data[(data[\"temperature\"]>30) & (data['humidity']>50)][\"label\"].unique())\n",
    "print(\"............................\")\n",
    "print(\"winter crop\")\n",
    "print(data[(data[\"temperature\"]<20) & (data['humidity']>30)][\"label\"].unique())\n",
    "print(\"............................\")\n",
    "print(\"Rainy Crops\")\n",
    "print(data[(data[\"rainfall\"]>200) & (data['humidity']>30)][\"label\"].unique())\n",
    "\n",
    "\n",
    "\n",
    "\n"
   ]
  },
  {
   "cell_type": "code",
   "execution_count": 14,
   "metadata": {},
   "outputs": [
    {
     "name": "stdout",
     "output_type": "stream",
     "text": [
      "(2200, 7)\n"
     ]
    }
   ],
   "source": [
    "from sklearn.cluster import KMeans\n",
    "\n",
    "x=data.drop(['label'],axis=1)\n",
    "\n",
    "x=x.values\n",
    "\n",
    "print(x.shape)"
   ]
  },
  {
   "cell_type": "code",
   "execution_count": 17,
   "metadata": {},
   "outputs": [
    {
     "data": {
      "image/png": "[encoded data removed]",
      "text/plain": [
       "<Figure size 720x288 with 1 Axes>"
      ]
     },
     "metadata": {
      "needs_background": "light"
     },
     "output_type": "display_data"
    }
   ],
   "source": [
    "# lets determine the optimum number of clusters within the dataset\n",
    "\n",
    "plt.rcParams['figure.figsize'] = (10,4)\n",
    "\n",
    "wcss=[]\n",
    "for i in range(1,11):\n",
    "    km = KMeans(n_clusters=i,init='k-means++',max_iter = 300,n_init=10,random_state=0)\n",
    "    km.fit(x)\n",
    "    wcss.append(km.inertia_)\n",
    "    \n",
    "# Lets plot the result\n",
    "plt.plot(range(1,11),wcss)\n",
    "plt.title(\"The Elbow Method\",fontsize =20)\n",
    "plt.xlabel(\"No of Clusters\")\n",
    "plt.ylabel(\"wcss\")\n",
    "plt.show()\n",
    "\n",
    "\n",
    "\n",
    "\n",
    "\n",
    "\n"
   ]
  },
  {
   "cell_type": "code",
   "execution_count": 22,
   "metadata": {},
   "outputs": [
    {
     "name": "stdout",
     "output_type": "stream",
     "text": [
      "Lets check the result after applying the K Means Clustering Analysis \n",
      "\n",
      "Crops in First Cluster: ['maize' 'chickpea' 'kidneybeans' 'pigeonpeas' 'mothbeans' 'mungbean'\n",
      " 'blackgram' 'lentil' 'pomegranate' 'mango' 'orange' 'papaya' 'coconut']\n",
      "..............................................................\n",
      "Crops in Second Cluster: ['maize' 'banana' 'watermelon' 'muskmelon' 'papaya' 'cotton' 'coffee']\n",
      "...............................................................\n",
      "Crops in Third Cluster: ['grapes' 'apple']\n",
      "...............................................................\n",
      "Crops in Fourth Cluster: ['rice' 'pigeonpeas' 'papaya' 'coconut' 'jute' 'coffee']\n"
     ]
    }
   ],
   "source": [
    "# Implementing K Means algorithm\n",
    "\n",
    "km = KMeans(n_clusters =4,init='k-means++',max_iter=300,n_init=10,random_state=0)\n",
    "y_means = km.fit_predict(x)\n",
    "\n",
    "# Finding The Results\n",
    "a=data['label']\n",
    "y_means = pd.DataFrame(y_means)\n",
    "z=pd.concat([y_means,a],axis=1)\n",
    "z=z.rename(columns={0:'cluster'})\n",
    "\n",
    "# lets check cluster of each crops\n",
    "print('Lets check the result after applying the K Means Clustering Analysis \\n')\n",
    "print(\"Crops in First Cluster:\",z[z['cluster']==0]['label'].unique())\n",
    "print(\"..............................................................\")\n",
    "print(\"Crops in Second Cluster:\",z[z['cluster']==1]['label'].unique())\n",
    "print(\"...............................................................\")\n",
    "print(\"Crops in Third Cluster:\",z[z['cluster']==2]['label'].unique())\n",
    "print(\"...............................................................\")\n",
    "print(\"Crops in Fourth Cluster:\",z[z['cluster']==3]['label'].unique())\n",
    "\n",
    "\n",
    "\n",
    "\n",
    "\n",
    "\n",
    "\n",
    "\n"
   ]
  },
  {
   "cell_type": "code",
   "execution_count": 23,
   "metadata": {},
   "outputs": [
    {
     "name": "stdout",
     "output_type": "stream",
     "text": [
      "shape of x: (2200, 7)\n",
      "shape of y: (2200,)\n"
     ]
    }
   ],
   "source": [
    "# Split the dataset for predictive modelling\n",
    "\n",
    "y=data['label']\n",
    "x=data.drop(['label'],axis=1)\n",
    "\n",
    "print(\"shape of x:\", x.shape)\n",
    "print(\"shape of y:\", y.shape)\n",
    "\n",
    "\n"
   ]
  },
  {
   "cell_type": "code",
   "execution_count": 24,
   "metadata": {},
   "outputs": [
    {
     "name": "stdout",
     "output_type": "stream",
     "text": [
      "The shape of x train: (1760, 7)\n",
      "The shape of x test: (440, 7)\n",
      "The shape of y train: (1760,)\n",
      "The shape of y test: (440,)\n"
     ]
    }
   ],
   "source": [
    "# Lets create training and testing set\n",
    "from sklearn.model_selection import train_test_split\n",
    "\n",
    "x_train,x_test,y_train,y_test= train_test_split(x,y,test_size=0.2,random_state=0)\n",
    "\n",
    "print(\"The shape of x train:\",x_train.shape)\n",
    "print(\"The shape of x test:\",x_test.shape)\n",
    "print(\"The shape of y train:\",y_train.shape)\n",
    "print(\"The shape of y test:\",y_test.shape)\n"
   ]
  },
  {
   "cell_type": "code",
   "execution_count": 25,
   "metadata": {},
   "outputs": [
    {
     "name": "stderr",
     "output_type": "stream",
     "text": [
      "C:\\Users\\lenovo\\anaconda3\\lib\\site-packages\\sklearn\\linear_model\\_logistic.py:763: ConvergenceWarning: lbfgs failed to converge (status=1):\n",
      "STOP: TOTAL NO. of ITERATIONS REACHED LIMIT.\n",
      "\n",
      "Increase the number of iterations (max_iter) or scale the data as shown in:\n",
      "    https://scikit-learn.org/stable/modules/preprocessing.html\n",
      "Please also refer to the documentation for alternative solver options:\n",
      "    https://scikit-learn.org/stable/modules/linear_model.html#logistic-regression\n",
      "  n_iter_i = _check_optimize_result(\n"
     ]
    }
   ],
   "source": [
    "# lets create predictive Model\n",
    "\n",
    "from sklearn.linear_model import LogisticRegression\n",
    "\n",
    "model= LogisticRegression()\n",
    "model.fit(x_train,y_train)\n",
    "y_pred = model.predict(x_test)\n",
    "\n",
    "\n"
   ]
  },
  {
   "cell_type": "code",
   "execution_count": 27,
   "metadata": {},
   "outputs": [
    {
     "data": {
      "image/png": "[encoded data removed]",
      "text/plain": [
       "<Figure size 720x720 with 2 Axes>"
      ]
     },
     "metadata": {
      "needs_background": "light"
     },
     "output_type": "display_data"
    }
   ],
   "source": [
    "#Lets evaluate Model performance\n",
    "\n",
    "from sklearn.metrics import confusion_matrix\n",
    "\n",
    "plt.rcParams['figure.figsize']=(10,10)\n",
    "cm = confusion_matrix(y_test,y_pred)\n",
    "sns.heatmap(cm,annot=True,cmap='Wistia')\n",
    "plt.title('Confusion Matrix For Logistic Regression',fontsize=15)\n",
    "plt.show()\n"
   ]
  },
  {
   "cell_type": "code",
   "execution_count": 29,
   "metadata": {},
   "outputs": [
    {
     "name": "stdout",
     "output_type": "stream",
     "text": [
      "              precision    recall  f1-score   support\n",
      "\n",
      "       apple       1.00      1.00      1.00        18\n",
      "      banana       1.00      1.00      1.00        18\n",
      "   blackgram       0.86      0.82      0.84        22\n",
      "    chickpea       1.00      1.00      1.00        23\n",
      "     coconut       1.00      1.00      1.00        15\n",
      "      coffee       1.00      1.00      1.00        17\n",
      "      cotton       0.89      1.00      0.94        16\n",
      "      grapes       1.00      1.00      1.00        18\n",
      "        jute       0.84      1.00      0.91        21\n",
      " kidneybeans       1.00      1.00      1.00        20\n",
      "      lentil       0.94      0.94      0.94        17\n",
      "       maize       0.94      0.89      0.91        18\n",
      "       mango       1.00      1.00      1.00        21\n",
      "   mothbeans       0.88      0.92      0.90        25\n",
      "    mungbean       1.00      1.00      1.00        17\n",
      "   muskmelon       1.00      1.00      1.00        23\n",
      "      orange       1.00      1.00      1.00        23\n",
      "      papaya       1.00      0.95      0.98        21\n",
      "  pigeonpeas       1.00      1.00      1.00        22\n",
      " pomegranate       1.00      1.00      1.00        23\n",
      "        rice       1.00      0.84      0.91        25\n",
      "  watermelon       1.00      1.00      1.00        17\n",
      "\n",
      "    accuracy                           0.97       440\n",
      "   macro avg       0.97      0.97      0.97       440\n",
      "weighted avg       0.97      0.97      0.97       440\n",
      "\n"
     ]
    }
   ],
   "source": [
    "# Print the classification Report\n",
    "from sklearn.metrics import classification_report\n",
    "cr = classification_report(y_test,y_pred)\n",
    "print(cr)\n"
   ]
  },
  {
   "cell_type": "code",
   "execution_count": 30,
   "metadata": {},
   "outputs": [
    {
     "data": {
      "text/html": [
       "<div>\n",
       "<style scoped>\n",
       "    .dataframe tbody tr th:only-of-type {\n",
       "        vertical-align: middle;\n",
       "    }\n",
       "\n",
       "    .dataframe tbody tr th {\n",
       "        vertical-align: top;\n",
       "    }\n",
       "\n",
       "    .dataframe thead th {\n",
       "        text-align: right;\n",
       "    }\n",
       "</style>\n",
       "<table border=\"1\" class=\"dataframe\">\n",
       "  <thead>\n",
       "    <tr style=\"text-align: right;\">\n",
       "      <th></th>\n",
       "      <th>N</th>\n",
       "      <th>P</th>\n",
       "      <th>K</th>\n",
       "      <th>temperature</th>\n",
       "      <th>humidity</th>\n",
       "      <th>ph</th>\n",
       "      <th>rainfall</th>\n",
       "      <th>label</th>\n",
       "    </tr>\n",
       "  </thead>\n",
       "  <tbody>\n",
       "    <tr>\n",
       "      <th>0</th>\n",
       "      <td>90</td>\n",
       "      <td>42</td>\n",
       "      <td>43</td>\n",
       "      <td>20.879744</td>\n",
       "      <td>82.002744</td>\n",
       "      <td>6.502985</td>\n",
       "      <td>202.935536</td>\n",
       "      <td>rice</td>\n",
       "    </tr>\n",
       "    <tr>\n",
       "      <th>1</th>\n",
       "      <td>85</td>\n",
       "      <td>58</td>\n",
       "      <td>41</td>\n",
       "      <td>21.770462</td>\n",
       "      <td>80.319644</td>\n",
       "      <td>7.038096</td>\n",
       "      <td>226.655537</td>\n",
       "      <td>rice</td>\n",
       "    </tr>\n",
       "    <tr>\n",
       "      <th>2</th>\n",
       "      <td>60</td>\n",
       "      <td>55</td>\n",
       "      <td>44</td>\n",
       "      <td>23.004459</td>\n",
       "      <td>82.320763</td>\n",
       "      <td>7.840207</td>\n",
       "      <td>263.964248</td>\n",
       "      <td>rice</td>\n",
       "    </tr>\n",
       "    <tr>\n",
       "      <th>3</th>\n",
       "      <td>74</td>\n",
       "      <td>35</td>\n",
       "      <td>40</td>\n",
       "      <td>26.491096</td>\n",
       "      <td>80.158363</td>\n",
       "      <td>6.980401</td>\n",
       "      <td>242.864034</td>\n",
       "      <td>rice</td>\n",
       "    </tr>\n",
       "    <tr>\n",
       "      <th>4</th>\n",
       "      <td>78</td>\n",
       "      <td>42</td>\n",
       "      <td>42</td>\n",
       "      <td>20.130175</td>\n",
       "      <td>81.604873</td>\n",
       "      <td>7.628473</td>\n",
       "      <td>262.717340</td>\n",
       "      <td>rice</td>\n",
       "    </tr>\n",
       "  </tbody>\n",
       "</table>\n",
       "</div>"
      ],
      "text/plain": [
       "    N   P   K  temperature   humidity        ph    rainfall label\n",
       "0  90  42  43    20.879744  82.002744  6.502985  202.935536  rice\n",
       "1  85  58  41    21.770462  80.319644  7.038096  226.655537  rice\n",
       "2  60  55  44    23.004459  82.320763  7.840207  263.964248  rice\n",
       "3  74  35  40    26.491096  80.158363  6.980401  242.864034  rice\n",
       "4  78  42  42    20.130175  81.604873  7.628473  262.717340  rice"
      ]
     },
     "execution_count": 30,
     "metadata": {},
     "output_type": "execute_result"
    }
   ],
   "source": [
    "data.head()"
   ]
  },
  {
   "cell_type": "code",
   "execution_count": 31,
   "metadata": {},
   "outputs": [
    {
     "name": "stdout",
     "output_type": "stream",
     "text": [
      "The Suggested Crop For given Climatic Condition is : ['rice']\n"
     ]
    }
   ],
   "source": [
    "prediction = model.predict((np.array([[90,\n",
    "                                       40,\n",
    "                                       40,\n",
    "                                       20,\n",
    "                                       80,\n",
    "                                       7,\n",
    "                                       200]])))\n",
    "\n",
    "print(\"The Suggested Crop For given Climatic Condition is :\",prediction)"
   ]
  },
  {
   "cell_type": "code",
   "execution_count": null,
   "metadata": {},
   "outputs": [],
   "source": []
  }
 ],
 "metadata": {
  "kernelspec": {
   "display_name": "Python 3",
   "language": "python",
   "name": "python3"
  },
  "language_info": {
   "codemirror_mode": {
    "name": "ipython",
    "version": 3
   },
   "file_extension": ".py",
   "mimetype": "text/x-python",
   "name": "python",
   "nbconvert_exporter": "python",
   "pygments_lexer": "ipython3",
   "version": "3.8.3"
  }
 },
 "nbformat": 4,
 "nbformat_minor": 4
}
